{
 "cells": [
  {
   "cell_type": "markdown",
   "metadata": {},
   "source": [
    "# Objects"
   ]
  },
  {
   "cell_type": "code",
   "execution_count": 1,
   "metadata": {},
   "outputs": [
    {
     "name": "stdout",
     "output_type": "stream",
     "text": [
      "['__abs__', '__add__', '__and__', '__bool__', '__ceil__', '__class__', '__delattr__', '__dir__', '__divmod__', '__doc__', '__eq__', '__float__', '__floor__', '__floordiv__', '__format__', '__ge__', '__getattribute__', '__getnewargs__', '__gt__', '__hash__', '__index__', '__init__', '__init_subclass__', '__int__', '__invert__', '__le__', '__lshift__', '__lt__', '__mod__', '__mul__', '__ne__', '__neg__', '__new__', '__or__', '__pos__', '__pow__', '__radd__', '__rand__', '__rdivmod__', '__reduce__', '__reduce_ex__', '__repr__', '__rfloordiv__', '__rlshift__', '__rmod__', '__rmul__', '__ror__', '__round__', '__rpow__', '__rrshift__', '__rshift__', '__rsub__', '__rtruediv__', '__rxor__', '__setattr__', '__sizeof__', '__str__', '__sub__', '__subclasshook__', '__truediv__', '__trunc__', '__xor__', 'bit_length', 'conjugate', 'denominator', 'from_bytes', 'imag', 'numerator', 'real', 'to_bytes']\n",
      "\n",
      "bit length of 1: 1 bits\n",
      "      size of 1: 28 bytes\n"
     ]
    }
   ],
   "source": [
    "import sys\n",
    "\n",
    "print(dir(1))\n",
    "\n",
    "print(\"\\nbit length of %d: %d bits\" % (1, (1).bit_length() ))\n",
    "print(\"      size of %d: %d bytes\" % (1, sys.getsizeof(1)))"
   ]
  },
  {
   "cell_type": "markdown",
   "metadata": {},
   "source": [
    "# Strings"
   ]
  },
  {
   "cell_type": "code",
   "execution_count": 2,
   "metadata": {},
   "outputs": [
    {
     "name": "stdout",
     "output_type": "stream",
     "text": [
      "abcabc abcabcabcabcabcabcabcabcabcabc 30\n",
      "\n",
      " bcabc abcabcab cbacbacba\n",
      "\n",
      " AbcAbcAbc\n",
      "\n",
      " a;b;c;d \n",
      " ['a', 'b', 'c', 'd']\n",
      "\n",
      " ['1', '2', '', '3', '', '', '4', '', '', '', '5'] \n",
      " ['1', '2', '3', '4', '5']\n",
      "0123456789\n",
      " \t\n",
      "\r",
      "\u000b",
      "\f",
      "\n",
      "' \\t\\n\\r\\x0b\\x0c'\n"
     ]
    }
   ],
   "source": [
    "s = 'abc'\n",
    "print(s+s, 10*s, len(10*s))\n",
    "\n",
    "print('\\n', (3*s)[1:6], (3*s)[:-1],  (3*s)[ : : -1])\n",
    "\n",
    "print('\\n', (3*s).replace('a', 'A'))\n",
    "\n",
    "s = ';'.join( ['a', 'b', 'c', 'd'] )\n",
    "print('\\n', s, '\\n', s.split(';'))\n",
    "\n",
    "s = '1 2  3   4    5' \n",
    "print('\\n', s.split(' '), '\\n', s.split())\n",
    "\n",
    "import string\n",
    "print(\"%s\\n%s\" % (string.digits, string.whitespace))\n",
    "\n",
    "#string.whitespace\n",
    "print(repr(string.whitespace))"
   ]
  },
  {
   "cell_type": "markdown",
   "metadata": {},
   "source": [
    "# Variables and bindings"
   ]
  },
  {
   "cell_type": "code",
   "execution_count": 3,
   "metadata": {},
   "outputs": [
    {
     "name": "stdout",
     "output_type": "stream",
     "text": [
      "[1, 2] [1, 2]\n",
      "11 10\n",
      "10 11\n"
     ]
    }
   ],
   "source": [
    "a = [] \n",
    "b = a \n",
    "\n",
    "a.append(1) \n",
    "b.append(2)\n",
    "\n",
    "print(a, b)\n",
    "\n",
    "a = 10 \n",
    "b = a \n",
    "a += 1\n",
    "\n",
    "print(a, b)\n",
    "\n",
    "a, b = b, a\n",
    "print (a, b)"
   ]
  },
  {
   "cell_type": "markdown",
   "metadata": {},
   "source": [
    "## id"
   ]
  },
  {
   "cell_type": "code",
   "execution_count": 4,
   "metadata": {},
   "outputs": [
    {
     "name": "stdout",
     "output_type": "stream",
     "text": [
      "id(a): 2975561921232\n",
      "id(b): 2975561921232\n"
     ]
    }
   ],
   "source": [
    "a = 'aaa'\n",
    "b = 'aaa'\n",
    "\n",
    "print (\"id(a): %d\\nid(b): %d\" % (id(a), id(b)))"
   ]
  },
  {
   "cell_type": "markdown",
   "metadata": {},
   "source": [
    "## bindings and id"
   ]
  },
  {
   "cell_type": "code",
   "execution_count": 5,
   "metadata": {},
   "outputs": [
    {
     "name": "stdout",
     "output_type": "stream",
     "text": [
      "1740605136 1740605136 \n",
      "\n",
      "1740605168 1740605136 \n",
      "\n",
      "[] 2975560623624 \n",
      " [] 2975560623624 \n",
      "\n",
      "[1, 2] 2975560623624 \n",
      " [1, 2] 2975560623624 \n",
      "\n",
      "[1, 2]\n",
      "2975560623624\n"
     ]
    }
   ],
   "source": [
    "a = 10\n",
    "b = a \n",
    "print (id(a), id(b), '\\n')\n",
    "\n",
    "a += 1 \n",
    "print (id(a), id(b), '\\n')\n",
    "\n",
    "a = [] \n",
    "b = a \n",
    "print (a, id(a), '\\n', b, id(b), '\\n') \n",
    "\n",
    "a.append(1) \n",
    "b.append(2) \n",
    "print (a, id(a), '\\n', b, id(b), '\\n') \n",
    "\n",
    "del(a)\n",
    "\n",
    "#print(id(a))\n",
    "print(b)\n",
    "print(id(b))"
   ]
  },
  {
   "cell_type": "markdown",
   "metadata": {},
   "source": [
    "# Printing formats"
   ]
  },
  {
   "cell_type": "code",
   "execution_count": 6,
   "metadata": {},
   "outputs": [
    {
     "name": "stdout",
     "output_type": "stream",
     "text": [
      "int: 3\n",
      "float: 3.141600\n",
      "string: abcdefgh\n",
      "\n",
      "Second argument:  11, first one:   47.42 \n",
      "Art:   453,  Price:    59.06 \n",
      "various precisions:    1.4 or  1.415\n"
     ]
    }
   ],
   "source": [
    "a, b, c = 3, 3.1416, 'abcdefgh'\n",
    "text = \"int: %d\\nfloat: %f\\nstring: %s\\n\" % (a, b, c)\n",
    "print (text)\n",
    "\n",
    "s1 = \"Second argument: {1:3d}, first one: {0:7.2f}\".format(47.42, 11) \n",
    "s2 = \"\\nArt: {a:5d},  Price: {p:8.2f}\".format(a=453, p=59.058)\n",
    "s3 = \"\\nvarious precisions: {0:6.1f} or {0:6.3f}\".format(1.4148) \n",
    "print(s1, s2, s3)\n"
   ]
  },
  {
   "cell_type": "markdown",
   "metadata": {},
   "source": [
    "# Functions"
   ]
  },
  {
   "cell_type": "code",
   "execution_count": 7,
   "metadata": {},
   "outputs": [
    {
     "name": "stdout",
     "output_type": "stream",
     "text": [
      "1.4140625 1.99957275390625\n",
      "1.4142135381698608 1.9999999315429164\n"
     ]
    }
   ],
   "source": [
    "def sqroot(x, eps=1.e-3):\n",
    "    \"\"\"Computes the square root of x up to a precision eps by approximate binary search.\n",
    "    \n",
    "    :param x: number whose square root is to be computed\n",
    "    :param eps: precision between x and the square of the approximate root\n",
    "    :type x: float\n",
    "    :type eps: float\n",
    "    :return: approximate square root\n",
    "    :rtype: float\n",
    "    \"\"\"\n",
    "    \n",
    "    assert (x   >= 1 ), \"error: input %f < 1.\" % x\n",
    "    assert (eps >  0.), \"error: precision %f <= 0.\" % eps\n",
    "    \n",
    "    left = 1.\n",
    "    right = x\n",
    "    sqr = (left+right)/2 \n",
    "    \n",
    "    while abs (sqr**2 - x) > eps:\n",
    "        if sqr**2 < x:\n",
    "            left = sqr\n",
    "        else:\n",
    "            right = sqr\n",
    "        sqr = (left+right)/2\n",
    "    \n",
    "    return sqr\n",
    "\n",
    "s = sqroot(2, 1.e-3)\n",
    "print(s, s*s)\n",
    "\n",
    "s = sqroot(2, 1.e-7)\n",
    "print(s, s*s)"
   ]
  },
  {
   "cell_type": "markdown",
   "metadata": {},
   "source": [
    "## funcs as arguments"
   ]
  },
  {
   "cell_type": "code",
   "execution_count": 8,
   "metadata": {},
   "outputs": [
    {
     "data": {
      "text/plain": [
       "[0, 1, 4, 9, 16, 25, 36, 49, 64, 81]"
      ]
     },
     "execution_count": 8,
     "metadata": {},
     "output_type": "execute_result"
    }
   ],
   "source": [
    "def square(n):\n",
    "    return n**2\n",
    "\n",
    "def list_func_values(n, f):\n",
    "    l_func_vals =[f(i) for i in range(n)] #list comprehension\n",
    "    return l_func_vals\n",
    "\n",
    "list_func_values(10, square)"
   ]
  },
  {
   "cell_type": "markdown",
   "metadata": {},
   "source": [
    "# tuples, lists, dicts, sets"
   ]
  },
  {
   "cell_type": "code",
   "execution_count": 9,
   "metadata": {},
   "outputs": [
    {
     "name": "stdout",
     "output_type": "stream",
     "text": [
      "True\n"
     ]
    }
   ],
   "source": [
    "a = ('a', 1, 'b', 2) \n",
    "b = 'a', 1, 'b', 2\n",
    "print(a == b)"
   ]
  },
  {
   "cell_type": "markdown",
   "metadata": {},
   "source": [
    "## zip"
   ]
  },
  {
   "cell_type": "code",
   "execution_count": 10,
   "metadata": {},
   "outputs": [
    {
     "name": "stdout",
     "output_type": "stream",
     "text": [
      "0\n",
      "1\n",
      "8\n",
      "27\n",
      "64\n",
      "125\n",
      "216\n",
      "343\n",
      "512\n",
      "729\n",
      "0\n",
      "1\n",
      "8\n",
      "27\n",
      "64\n",
      "125\n",
      "216\n",
      "343\n",
      "512\n",
      "729\n"
     ]
    }
   ],
   "source": [
    "l_1 = range(10) \n",
    "\n",
    "# list comprehension\n",
    "l_2 = [i*i for i in l_1]\n",
    "\n",
    "for l1, l2 in zip(l_1, l_2):\n",
    "    print (l1*l2)\n",
    "\n",
    "for l in zip(l_1, l_2):\n",
    "    print (l[0]*l[1])"
   ]
  },
  {
   "cell_type": "markdown",
   "metadata": {},
   "source": [
    "## enumerate"
   ]
  },
  {
   "cell_type": "code",
   "execution_count": 11,
   "metadata": {},
   "outputs": [
    {
     "name": "stdout",
     "output_type": "stream",
     "text": [
      "el cuadrado de  0 es    0\n",
      "el cuadrado de  1 es    1\n",
      "el cuadrado de  2 es    4\n",
      "el cuadrado de  3 es    9\n",
      "el cuadrado de  4 es   16\n",
      "el cuadrado de  5 es   25\n",
      "el cuadrado de  6 es   36\n",
      "el cuadrado de  7 es   49\n",
      "el cuadrado de  8 es   64\n",
      "el cuadrado de  9 es   81\n"
     ]
    }
   ],
   "source": [
    "l_2 = [i*i for i in l_1]\n",
    "\n",
    "for i, sq in enumerate(l_2):\n",
    "    print (\"el cuadrado de % 2d es % 4d\" % (i, sq))"
   ]
  },
  {
   "cell_type": "markdown",
   "metadata": {},
   "source": [
    "## dicts"
   ]
  },
  {
   "cell_type": "code",
   "execution_count": 12,
   "metadata": {},
   "outputs": [
    {
     "name": "stdout",
     "output_type": "stream",
     "text": [
      "keys dict_keys([0, 1, 2, 3, 4, 5, 6, 7, 8, 9])\n",
      "values dict_values([0, 1, 4, 9, 16, 25, 36, 49, 64, 81])\n",
      "items dict_items([(0, 0), (1, 1), (2, 4), (3, 9), (4, 16), (5, 25), (6, 36), (7, 49), (8, 64), (9, 81)])\n"
     ]
    }
   ],
   "source": [
    "d = {}\n",
    "\n",
    "for i, l in enumerate(l_2):\n",
    "    d[i] = l\n",
    "    \n",
    "print(\"keys\", d.keys())\n",
    "print(\"values\", d.values())\n",
    "print(\"items\", d.items())"
   ]
  },
  {
   "cell_type": "markdown",
   "metadata": {},
   "source": [
    "## Removing duplicates"
   ]
  },
  {
   "cell_type": "code",
   "execution_count": 13,
   "metadata": {},
   "outputs": [
    {
     "name": "stdout",
     "output_type": "stream",
     "text": [
      "l1: [1, 2, 3, 1, 2, 3]\n",
      "l2: [1, 2, 3]\n"
     ]
    }
   ],
   "source": [
    "l_1 = [1, 2, 3, 1, 2, 3]\n",
    "l_2 = list( set(l_1) ) \n",
    "\n",
    "print(\"l1:\", l_1)\n",
    "print(\"l2:\", l_2)        "
   ]
  },
  {
   "cell_type": "markdown",
   "metadata": {},
   "source": [
    "# Files"
   ]
  },
  {
   "cell_type": "code",
   "execution_count": 14,
   "metadata": {},
   "outputs": [
    {
     "name": "stdout",
     "output_type": "stream",
     "text": [
      " El volumen de la unidad D es Work\n",
      " El número de serie del volumen es: 4C39-D1E8\n",
      "\n",
      " Directorio de D:\\GoogleDriveBck\\Cursos\\Python\\master\\short_2018\n",
      "\n",
      "12/09/2018  14:55                81 squares.txt\n",
      "               1 archivos             81 bytes\n",
      "               0 dirs  16.836.710.400 bytes libres\n"
     ]
    }
   ],
   "source": [
    "l_s = []\n",
    "for i, sq in enumerate(l_2):\n",
    "    s = \"el cuadrado de % 2d es % 4d\\n\" % (i, sq)\n",
    "    l_s.append(s)\n",
    "\n",
    "f = open(\"squares.txt\", 'w')\n",
    "for s in l_s:\n",
    "    f.write(s)\n",
    "\n",
    "f.close()\n",
    "\n",
    "%ls squares.txt"
   ]
  },
  {
   "cell_type": "code",
   "execution_count": 15,
   "metadata": {},
   "outputs": [
    {
     "name": "stdout",
     "output_type": "stream",
     "text": [
      "'el cuadrado de  0 es    1\\n'\n",
      "['el', 'cuadrado', 'de', '0', 'es', '1']\n",
      "'el cuadrado de  1 es    2\\n'\n",
      "['el', 'cuadrado', 'de', '1', 'es', '2']\n",
      "'el cuadrado de  2 es    3\\n'\n",
      "['el', 'cuadrado', 'de', '2', 'es', '3']\n"
     ]
    }
   ],
   "source": [
    "f = open(\"squares.txt\", 'r')\n",
    "\n",
    "for l in f:\n",
    "    print(repr(l))\n",
    "    print(l.split())\n",
    "\n",
    "f.close()"
   ]
  },
  {
   "cell_type": "markdown",
   "metadata": {},
   "source": [
    "# Numpy"
   ]
  },
  {
   "cell_type": "code",
   "execution_count": 16,
   "metadata": {},
   "outputs": [
    {
     "name": "stdout",
     "output_type": "stream",
     "text": [
      "shape: (10, 10)\n",
      "diagonal:\n",
      " [0.31869021 0.38733496 0.29467607 0.1512722  0.09155182 0.89824394\n",
      " 0.64725455 0.33110829 0.93384688 0.23502302]\n",
      "shape: (5, 20)\n",
      "\n",
      "mean -0.069 \tstd 0.997\n",
      "\n",
      "mean:  [-0.34391589 -0.76264527  0.19679118  0.82876777 -0.6744176  -0.27220697\n",
      " -1.06865091 -0.05658385 -0.12244107  0.04538311 -0.68390122  0.29999841\n",
      " -0.15019979 -0.11058104 -0.04770566 -0.14392788  0.99651717  0.35707418\n",
      "  0.45847035 -0.12251114] \n",
      "std:  [1.19751788 0.9807675  1.05206578 0.66472317 0.97485827]\n"
     ]
    }
   ],
   "source": [
    "import numpy as np\n",
    "\n",
    "x = np.random.rand(10, 10)\n",
    "\n",
    "print(\"shape:\", x.shape)\n",
    "print(\"diagonal:\\n\", np.diag(x))\n",
    "\n",
    "x = np.random.randn(100).reshape(5, -1)\n",
    "\n",
    "print(\"shape:\", x.shape)\n",
    "print(\"\\nmean %.3f\" % x.mean(), \"\\tstd %.3f\" % x.std())\n",
    "print(\"\\nmean: \", x.mean(axis=0), \"\\nstd: \", x.std(axis=1))"
   ]
  },
  {
   "cell_type": "markdown",
   "metadata": {},
   "source": [
    "# Fitting functions"
   ]
  },
  {
   "cell_type": "code",
   "execution_count": 17,
   "metadata": {},
   "outputs": [],
   "source": [
    "%matplotlib inline"
   ]
  },
  {
   "cell_type": "code",
   "execution_count": 18,
   "metadata": {},
   "outputs": [
    {
     "name": "stdout",
     "output_type": "stream",
     "text": [
      "dilat: 5.000000 \tintercept: 9.806 \tcoef: 0.987\n"
     ]
    },
    {
     "data": {
      "image/png": "[encoded data removed]",
      "text/plain": [
       "<matplotlib.figure.Figure at 0x2b4cf518908>"
      ]
     },
     "metadata": {},
     "output_type": "display_data"
    }
   ],
   "source": [
    "from sklearn.linear_model import LinearRegression\n",
    "import matplotlib.pyplot as plt\n",
    "\n",
    "def fit_plot(x, y, func_2_fit):\n",
    "    xx = np.array([func_2_fit(z) for z in x])\n",
    "    xx = xx.reshape(-1, 1)\n",
    "    \n",
    "    lr_m = LinearRegression()\n",
    "    lr_m.fit(xx, y)\n",
    "    \n",
    "    y_pred = lr_m.predict(xx)\n",
    "    \n",
    "    return lr_m, y_pred\n",
    "    \n",
    "\n",
    "def n2(n):\n",
    "    return n**2. \n",
    "\n",
    "\n",
    "x = np.sort( 10. * np.random.rand(100) )\n",
    "x_2 = np.array([z**2. for z in x])\n",
    "\n",
    "dilat = 5.\n",
    "y_2 = 10. + x_2 + dilat * np.random.randn(100)\n",
    "\n",
    "lr_m, y_pred = fit_plot(x, y_2, n2)\n",
    "\n",
    "print(\"dilat: %3f\" % dilat, \"\\tintercept: %.3f\" % lr_m.intercept_, \"\\tcoef: %.3f\" % lr_m.coef_)\n",
    "_ = plt.plot(x, y_2, '*', x, y_pred, '-')"
   ]
  },
  {
   "cell_type": "code",
   "execution_count": 19,
   "metadata": {},
   "outputs": [
    {
     "data": {
      "image/png": "[encoded data removed]",
      "text/plain": [
       "<matplotlib.figure.Figure at 0x2b4d1960e80>"
      ]
     },
     "metadata": {},
     "output_type": "display_data"
    }
   ],
   "source": [
    "plt.figure(figsize=(15, 6))\n",
    "\n",
    "plt.subplot(1, 2, 1)\n",
    "_ = plt.hist(np.random.rand(1000), bins=50 )\n",
    "\n",
    "plt.subplot(1, 2, 2)\n",
    "_ = plt.hist(np.random.randn(1000), bins=50 )"
   ]
  }
 ],
 "metadata": {
  "kernelspec": {
   "display_name": "Python 3",
   "language": "python",
   "name": "python3"
  },
  "language_info": {
   "codemirror_mode": {
    "name": "ipython",
    "version": 3
   },
   "file_extension": ".py",
   "mimetype": "text/x-python",
   "name": "python",
   "nbconvert_exporter": "python",
   "pygments_lexer": "ipython3",
   "version": "3.6.3"
  }
 },
 "nbformat": 4,
 "nbformat_minor": 2
}
